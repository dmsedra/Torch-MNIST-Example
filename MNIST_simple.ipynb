{
 "metadata": {
  "language": "lua",
  "name": "",
  "signature": "sha256:d99a7d3cad1da505588b081a47c2c1c770721f224789ac7fbdd9ee72ba66cb9a"
 },
 "nbformat": 3,
 "nbformat_minor": 0,
 "worksheets": [
  {
   "cells": [
    {
     "cell_type": "code",
     "collapsed": false,
     "input": [
      "require 'nn'\n",
      "require 'optim'\n",
      "\n",
      "batch = 50\n",
      "maxEpoch = 10\n",
      "trainSize = 10000\n",
      "testSize = 1000"
     ],
     "language": "python",
     "metadata": {},
     "outputs": [],
     "prompt_number": 83
    },
    {
     "cell_type": "code",
     "collapsed": false,
     "input": [
      "local mnist = require 'mnist'\n",
      "train = mnist.traindataset()\n",
      "test = mnist.testdataset()\n",
      "\n",
      "trainX = train['data']:sub(1,trainSize):float()\n",
      "trainY = train['label']:sub(1,trainSize):float()+1\n",
      "\n",
      "testX = train['data']:sub(trainSize+1,trainSize+testSize):float()\n",
      "testY = train['label']:sub(trainSize+1,trainSize+testSize):float()+1\n",
      "\n",
      "xmax = trainX:max()\n",
      "trainX = trainX:div(xmax)\n",
      "testX = testX:div(xmax)"
     ],
     "language": "python",
     "metadata": {},
     "outputs": [],
     "prompt_number": 84
    },
    {
     "cell_type": "code",
     "collapsed": false,
     "input": [
      "m = nn.Sequential()\n",
      "m:add(nn.Reshape(784))\n",
      "\n",
      "m:add(nn.Linear(784,100))\n",
      "m:add(nn.Sigmoid())\n",
      "\n",
      "m:add(nn.Linear(100,100))\n",
      "m:add(nn.Sigmoid())\n",
      "\n",
      "m:add(nn.Linear(100,100))\n",
      "m:add(nn.Sigmoid())\n",
      "\n",
      "m:add(nn.Linear(100,100))\n",
      "m:add(nn.Sigmoid())\n",
      "\n",
      "m:add(nn.Linear(100,10))\n",
      "m:add(nn.LogSoftMax())\n",
      "criterion = nn.ClassNLLCriterion()\n",
      "params,grads = m:getParameters()"
     ],
     "language": "python",
     "metadata": {},
     "outputs": [],
     "prompt_number": 85
    },
    {
     "cell_type": "code",
     "collapsed": false,
     "input": [
      "confusion = optim.ConfusionMatrix(10)\n",
      "\n",
      "for j=1,maxEpoch do\n",
      "    local res1 = torch.Tensor(100):zero()\n",
      "    local res2 = torch.Tensor(100):zero()\n",
      "    local res3 = torch.Tensor(100):zero()\n",
      "    local res4 = torch.Tensor(100):zero()\n",
      "    local res5 = torch.Tensor(100):zero()\n",
      "    local res6 = torch.Tensor(100):zero()\n",
      "    total = 0\n",
      "    m:training()\n",
      "    print('Epoch '..j)\n",
      "    --train        \n",
      "    \n",
      "    for i=1,trainX:size(1),batch do\n",
      "        range = math.min(i+batch-1,trainX:size(1))\n",
      "        local inputs = trainX:sub(i,range)\n",
      "        local targets = trainY:sub(i,range)\n",
      "        \n",
      "        function feval(x)\n",
      "            if x ~= parameters then params:copy(x) end\n",
      "            grads:zero()\n",
      "            output = m:forward(inputs)\n",
      "            f = criterion:forward(output,targets)\n",
      "            local df_do = criterion:backward(output,targets)\n",
      "            m:backward(inputs,df_do)\n",
      "            f = f/batch\n",
      "            total = total + f\n",
      "            return f,grads\n",
      "        end\n",
      "        \n",
      "        optim.sgd(feval,params,{learningRate=0.5})   \n",
      "\n",
      "    end\n",
      "\n",
      "    --evaluate\n",
      "    m:evaluate()\n",
      "    for i=1,testX:size(1),batch do\n",
      "        range = math.min(i+batch-1,testX:size(1))\n",
      "        local inputs = testX:sub(i,range)\n",
      "        local targets = testY:sub(i,range)\n",
      "        \n",
      "        output = m:forward(inputs)\n",
      "        confusion:batchAdd(output,targets)\n",
      "  \n",
      "    end\n",
      "    confusion:updateValids()\n",
      "    print(1-confusion.totalValid)\n",
      "    confusion:zero()\n",
      "end"
     ],
     "language": "python",
     "metadata": {},
     "outputs": [
      {
       "metadata": {},
       "output_type": "pyout",
       "prompt_number": 86,
       "text": [
        "Epoch 1\t\n"
       ]
      },
      {
       "metadata": {},
       "output_type": "pyout",
       "prompt_number": 86,
       "text": [
        "0.903\t\n",
        "Epoch 2\t\n"
       ]
      },
      {
       "metadata": {},
       "output_type": "pyout",
       "prompt_number": 86,
       "text": [
        "0.903\t\n",
        "Epoch 3\t\n"
       ]
      },
      {
       "metadata": {},
       "output_type": "pyout",
       "prompt_number": 86,
       "text": [
        "0.903\t\n",
        "Epoch 4\t\n"
       ]
      },
      {
       "metadata": {},
       "output_type": "pyout",
       "prompt_number": 86,
       "text": [
        "0.903\t\n",
        "Epoch 5\t\n"
       ]
      },
      {
       "metadata": {},
       "output_type": "pyout",
       "prompt_number": 86,
       "text": [
        "0.903\t\n",
        "Epoch 6\t\n"
       ]
      },
      {
       "metadata": {},
       "output_type": "pyout",
       "prompt_number": 86,
       "text": [
        "0.903\t\n",
        "Epoch 7\t\n"
       ]
      },
      {
       "metadata": {},
       "output_type": "pyout",
       "prompt_number": 86,
       "text": [
        "0.897\t\n",
        "Epoch 8\t\n"
       ]
      },
      {
       "metadata": {},
       "output_type": "pyout",
       "prompt_number": 86,
       "text": [
        "0.897\t\n",
        "Epoch 9\t\n"
       ]
      },
      {
       "metadata": {},
       "output_type": "pyout",
       "prompt_number": 86,
       "text": [
        "0.897\t\n",
        "Epoch 10\t\n"
       ]
      },
      {
       "metadata": {},
       "output_type": "pyout",
       "prompt_number": 86,
       "text": [
        "0.897\t\n"
       ]
      }
     ],
     "prompt_number": 86
    },
    {
     "cell_type": "code",
     "collapsed": false,
     "input": [],
     "language": "python",
     "metadata": {},
     "outputs": [
      {
       "metadata": {},
       "output_type": "pyout",
       "prompt_number": 78,
       "text": [
        "0.897\t\n",
        "\n"
       ]
      }
     ],
     "prompt_number": 78
    },
    {
     "cell_type": "code",
     "collapsed": false,
     "input": [],
     "language": "python",
     "metadata": {},
     "outputs": []
    }
   ],
   "metadata": {}
  }
 ]
}