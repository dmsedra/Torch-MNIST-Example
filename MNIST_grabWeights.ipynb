{
 "metadata": {
  "language": "lua",
  "name": "",
  "signature": "sha256:87f14c97173ae131097abfa7c12daf08ba1c8482a309eaa3741fb7aad1d413fc"
 },
 "nbformat": 3,
 "nbformat_minor": 0,
 "worksheets": [
  {
   "cells": [
    {
     "cell_type": "code",
     "collapsed": false,
     "input": [
      "require 'nn'\n",
      "require 'optim'\n",
      "require 'csvigo'\n",
      "\n",
      "torch.setdefaulttensortype('torch.FloatTensor')\n",
      "batch = 50\n",
      "maxEpoch = 100\n",
      "trainSize = 10000\n",
      "testSize = 1000"
     ],
     "language": "python",
     "metadata": {},
     "outputs": [],
     "prompt_number": 211
    },
    {
     "cell_type": "code",
     "collapsed": false,
     "input": [
      "local mnist = require 'mnist'\n",
      "train = mnist.traindataset()\n",
      "test = mnist.testdataset()\n",
      "\n",
      "trainX = train['data']:sub(1,trainSize):float()\n",
      "trainY = train['label']:sub(1,trainSize):float()+1\n",
      "\n",
      "testX = train['data']:sub(trainSize+1,trainSize+testSize):float()\n",
      "testY = train['label']:sub(trainSize+1,trainSize+testSize):float()+1\n",
      "\n",
      "xmax = trainX:max()\n",
      "trainX = trainX:div(xmax)\n",
      "testX = testX:div(xmax)"
     ],
     "language": "python",
     "metadata": {},
     "outputs": [],
     "prompt_number": 212
    },
    {
     "cell_type": "code",
     "collapsed": false,
     "input": [
      "m = nn.Sequential()\n",
      "m:add(nn.Reshape(784))\n",
      "\n",
      "m:add(nn.Linear(784,100))\n",
      "m:add(nn.Sigmoid())\n",
      "\n",
      "m:add(nn.Linear(100,100))\n",
      "m:add(nn.Sigmoid())\n",
      "\n",
      "m:add(nn.Linear(100,100))\n",
      "m:add(nn.Sigmoid())\n",
      "\n",
      "m:add(nn.Linear(100,100))\n",
      "m:add(nn.Sigmoid())\n",
      "\n",
      "m:add(nn.Linear(100,10))\n",
      "m:add(nn.LogSoftMax())\n",
      "criterion = nn.ClassNLLCriterion()\n",
      "params,grads = m:getParameters()\n"
     ],
     "language": "python",
     "metadata": {},
     "outputs": [],
     "prompt_number": 213
    },
    {
     "cell_type": "code",
     "collapsed": false,
     "input": [
      "confusion = optim.ConfusionMatrix(10)\n",
      "results = {}\n",
      "results[4] = {}\n",
      "results[6] = {}\n",
      "results[8] = {}\n",
      "accuracy = {}\n",
      "\n",
      "for j=1,maxEpoch do\n",
      "    local_results = {}\n",
      "    local_results[4] = torch.Tensor(100):fill(0)\n",
      "    local_results[6] = torch.Tensor(100):fill(0)\n",
      "    local_results[8] = torch.Tensor(100):fill(0)\n",
      "    \n",
      "    \n",
      "    total = 0\n",
      "    m:training()\n",
      "    print('Epoch '..j)\n",
      "    --train        \n",
      "    \n",
      "    for i=1,trainX:size(1),batch do\n",
      "        range = math.min(i+batch-1,trainX:size(1))\n",
      "        local inputs = trainX:sub(i,range)\n",
      "        local targets = torch.Tensor(range-i+1):fill(1)--trainY:sub(i,range)\n",
      "        \n",
      "        function feval(x)\n",
      "            if x ~= parameters then params:copy(x) end\n",
      "            grads:zero()\n",
      "            output = m:forward(inputs)\n",
      "            f = criterion:forward(output,targets)\n",
      "            local df_do = criterion:backward(output,targets)\n",
      "            m:backward(inputs,df_do)\n",
      "            f = f/batch\n",
      "            total = total + f\n",
      "            return f,grads\n",
      "        end\n",
      "        optim.sgd(feval,params,{learningRate=0.5})\n",
      "        \n",
      "        local_results[4]:add(m:get(4).output:abs():mean(1))\n",
      "        local_results[6]:add(m:get(6).output:abs():mean(1))\n",
      "        local_results[8]:add(m:get(8).output:abs():mean(1))\n",
      "        \n",
      "    \n",
      "    end\n",
      "\n",
      "    --evaluate\n",
      "    m:evaluate()\n",
      "    for i=1,testX:size(1),batch do\n",
      "        range = math.min(i+batch-1,testX:size(1))\n",
      "        local inputs = testX:sub(i,range)\n",
      "        local targets = testY:sub(i,range)\n",
      "        \n",
      "        output = m:forward(inputs)\n",
      "        confusion:batchAdd(output,targets)\n",
      "  \n",
      "    end\n",
      "    confusion:updateValids()\n",
      "    print(1-confusion.totalValid)\n",
      "    table.insert(accuracy,1-confusion.totalValid)\n",
      "    confusion:zero()\n",
      "    \n",
      "    table.insert(results[4],torch.totable(local_results[4]:div(200)))\n",
      "    table.insert(results[6],torch.totable(local_results[6]:div(200)))\n",
      "    table.insert(results[8],torch.totable(local_results[8]:div(200)))\n",
      "end\n",
      "\n",
      "name = 'Plain_'\n",
      "for k,v in pairs(results) do\n",
      "    csvigo.save(name..k..'.csv',results[k])\n",
      "end\n",
      "csvigo.save(name..'accuracy.csv',{accuracy})"
     ],
     "language": "python",
     "metadata": {},
     "outputs": [
      {
       "metadata": {},
       "output_type": "pyout",
       "prompt_number": 219,
       "text": [
        "Epoch 1\t\n"
       ]
      },
      {
       "metadata": {},
       "output_type": "pyout",
       "prompt_number": 219,
       "text": [
        "0.903\t\n",
        "Epoch 2\t\n"
       ]
      },
      {
       "metadata": {},
       "output_type": "pyout",
       "prompt_number": 219,
       "text": [
        "0.903\t\n",
        "Epoch 3\t\n"
       ]
      },
      {
       "metadata": {},
       "output_type": "pyout",
       "prompt_number": 219,
       "text": [
        "0.903\t\n",
        "Epoch 4\t\n"
       ]
      },
      {
       "metadata": {},
       "output_type": "pyout",
       "prompt_number": 219,
       "text": [
        "0.903\t\n"
       ]
      },
      {
       "metadata": {},
       "output_type": "pyout",
       "prompt_number": 219,
       "text": [
        "Epoch 5\t\n"
       ]
      },
      {
       "metadata": {},
       "output_type": "pyout",
       "prompt_number": 219,
       "text": [
        "0.903\t\n",
        "Epoch 6\t\n"
       ]
      },
      {
       "metadata": {},
       "output_type": "pyout",
       "prompt_number": 219,
       "text": [
        "0.903\t\n",
        "Epoch 7\t\n"
       ]
      },
      {
       "metadata": {},
       "output_type": "pyout",
       "prompt_number": 219,
       "text": [
        "0.903\t\n",
        "Epoch 8\t\n"
       ]
      },
      {
       "metadata": {},
       "output_type": "pyout",
       "prompt_number": 219,
       "text": [
        "0.903\t\n",
        "Epoch 9\t\n"
       ]
      },
      {
       "metadata": {},
       "output_type": "pyout",
       "prompt_number": 219,
       "text": [
        "0.903\t\n",
        "Epoch 10\t\n"
       ]
      },
      {
       "metadata": {},
       "output_type": "pyout",
       "prompt_number": 219,
       "text": [
        "0.903\t\n",
        "Epoch 11\t\n"
       ]
      },
      {
       "metadata": {},
       "output_type": "pyout",
       "prompt_number": 219,
       "text": [
        "0.903\t\n",
        "Epoch 12\t\n"
       ]
      },
      {
       "metadata": {},
       "output_type": "pyout",
       "prompt_number": 219,
       "text": [
        "0.903\t\n"
       ]
      },
      {
       "metadata": {},
       "output_type": "pyout",
       "prompt_number": 219,
       "text": [
        "Epoch 13\t\n"
       ]
      },
      {
       "metadata": {},
       "output_type": "pyout",
       "prompt_number": 219,
       "text": [
        "0.903\t\n",
        "Epoch 14\t\n"
       ]
      },
      {
       "metadata": {},
       "output_type": "pyout",
       "prompt_number": 219,
       "text": [
        "0.903\t\n",
        "Epoch 15\t\n"
       ]
      },
      {
       "metadata": {},
       "output_type": "pyout",
       "prompt_number": 219,
       "text": [
        "0.903\t\n",
        "Epoch 16\t\n"
       ]
      },
      {
       "metadata": {},
       "output_type": "pyout",
       "prompt_number": 219,
       "text": [
        "0.903\t\n",
        "Epoch 17\t\n"
       ]
      },
      {
       "metadata": {},
       "output_type": "pyout",
       "prompt_number": 219,
       "text": [
        "0.903\t\n",
        "Epoch 18\t\n"
       ]
      },
      {
       "metadata": {},
       "output_type": "pyout",
       "prompt_number": 219,
       "text": [
        "0.903\t\n",
        "Epoch 19\t\n"
       ]
      },
      {
       "metadata": {},
       "output_type": "pyout",
       "prompt_number": 219,
       "text": [
        "0.903\t\n",
        "Epoch 20\t\n"
       ]
      },
      {
       "metadata": {},
       "output_type": "pyout",
       "prompt_number": 219,
       "text": [
        "0.903\t\n"
       ]
      },
      {
       "metadata": {},
       "output_type": "pyout",
       "prompt_number": 219,
       "text": [
        "Epoch 21\t\n"
       ]
      },
      {
       "metadata": {},
       "output_type": "pyout",
       "prompt_number": 219,
       "text": [
        "0.903\t\n",
        "Epoch 22\t\n"
       ]
      },
      {
       "metadata": {},
       "output_type": "pyout",
       "prompt_number": 219,
       "text": [
        "0.903\t\n",
        "Epoch 23\t\n"
       ]
      },
      {
       "metadata": {},
       "output_type": "pyout",
       "prompt_number": 219,
       "text": [
        "0.903\t\n"
       ]
      },
      {
       "metadata": {},
       "output_type": "pyout",
       "prompt_number": 219,
       "text": [
        "Epoch 24\t\n"
       ]
      },
      {
       "metadata": {},
       "output_type": "pyout",
       "prompt_number": 219,
       "text": [
        "0.903\t\n",
        "Epoch 25\t\n"
       ]
      },
      {
       "metadata": {},
       "output_type": "pyout",
       "prompt_number": 219,
       "text": [
        "0.903\t\n",
        "Epoch 26\t\n"
       ]
      },
      {
       "metadata": {},
       "output_type": "pyout",
       "prompt_number": 219,
       "text": [
        "0.903\t\n",
        "Epoch 27\t\n"
       ]
      },
      {
       "metadata": {},
       "output_type": "pyout",
       "prompt_number": 219,
       "text": [
        "0.903\t\n",
        "Epoch 28\t\n"
       ]
      },
      {
       "metadata": {},
       "output_type": "pyout",
       "prompt_number": 219,
       "text": [
        "0.903\t\n",
        "Epoch 29\t\n"
       ]
      },
      {
       "metadata": {},
       "output_type": "pyout",
       "prompt_number": 219,
       "text": [
        "0.903\t\n",
        "Epoch 30\t\n"
       ]
      },
      {
       "metadata": {},
       "output_type": "pyout",
       "prompt_number": 219,
       "text": [
        "0.903\t\n",
        "Epoch 31\t\n"
       ]
      },
      {
       "metadata": {},
       "output_type": "pyout",
       "prompt_number": 219,
       "text": [
        "0.903\t\n",
        "Epoch 32\t\n"
       ]
      },
      {
       "metadata": {},
       "output_type": "pyout",
       "prompt_number": 219,
       "text": [
        "0.903\t\n",
        "Epoch 33\t\n"
       ]
      },
      {
       "metadata": {},
       "output_type": "pyout",
       "prompt_number": 219,
       "text": [
        "0.903\t\n",
        "Epoch 34\t\n"
       ]
      },
      {
       "metadata": {},
       "output_type": "pyout",
       "prompt_number": 219,
       "text": [
        "0.903\t\n",
        "Epoch 35\t\n"
       ]
      },
      {
       "metadata": {},
       "output_type": "pyout",
       "prompt_number": 219,
       "text": [
        "0.903\t\n",
        "Epoch 36\t\n"
       ]
      },
      {
       "metadata": {},
       "output_type": "pyout",
       "prompt_number": 219,
       "text": [
        "0.903\t\n",
        "Epoch 37\t\n"
       ]
      },
      {
       "metadata": {},
       "output_type": "pyout",
       "prompt_number": 219,
       "text": [
        "0.903\t\n"
       ]
      },
      {
       "metadata": {},
       "output_type": "pyout",
       "prompt_number": 219,
       "text": [
        "Epoch 38\t\n"
       ]
      },
      {
       "metadata": {},
       "output_type": "pyout",
       "prompt_number": 219,
       "text": [
        "0.903\t\n",
        "Epoch 39\t\n"
       ]
      },
      {
       "metadata": {},
       "output_type": "pyout",
       "prompt_number": 219,
       "text": [
        "0.903\t\n",
        "Epoch 40\t\n"
       ]
      },
      {
       "metadata": {},
       "output_type": "pyout",
       "prompt_number": 219,
       "text": [
        "0.903\t\n",
        "Epoch 41\t\n"
       ]
      },
      {
       "metadata": {},
       "output_type": "pyout",
       "prompt_number": 219,
       "text": [
        "0.903\t\n",
        "Epoch 42\t\n"
       ]
      },
      {
       "metadata": {},
       "output_type": "pyout",
       "prompt_number": 219,
       "text": [
        "0.903\t\n"
       ]
      },
      {
       "metadata": {},
       "output_type": "pyout",
       "prompt_number": 219,
       "text": [
        "Epoch 43\t\n"
       ]
      },
      {
       "metadata": {},
       "output_type": "pyout",
       "prompt_number": 219,
       "text": [
        "0.903\t\n",
        "Epoch 44\t\n"
       ]
      },
      {
       "metadata": {},
       "output_type": "pyout",
       "prompt_number": 219,
       "text": [
        "0.903\t\n",
        "Epoch 45\t\n"
       ]
      },
      {
       "metadata": {},
       "output_type": "pyout",
       "prompt_number": 219,
       "text": [
        "0.903\t\n",
        "Epoch 46\t\n"
       ]
      },
      {
       "metadata": {},
       "output_type": "pyout",
       "prompt_number": 219,
       "text": [
        "0.903\t\n",
        "Epoch 47\t\n"
       ]
      },
      {
       "metadata": {},
       "output_type": "pyout",
       "prompt_number": 219,
       "text": [
        "0.903\t\n",
        "Epoch 48\t\n"
       ]
      },
      {
       "metadata": {},
       "output_type": "pyout",
       "prompt_number": 219,
       "text": [
        "0.903\t\n",
        "Epoch 49\t\n"
       ]
      },
      {
       "metadata": {},
       "output_type": "pyout",
       "prompt_number": 219,
       "text": [
        "0.903\t\n",
        "Epoch 50\t\n"
       ]
      },
      {
       "metadata": {},
       "output_type": "pyout",
       "prompt_number": 219,
       "text": [
        "0.903\t\n",
        "Epoch 51\t\n"
       ]
      },
      {
       "metadata": {},
       "output_type": "pyout",
       "prompt_number": 219,
       "text": [
        "0.903\t\n",
        "Epoch 52\t\n"
       ]
      },
      {
       "metadata": {},
       "output_type": "pyout",
       "prompt_number": 219,
       "text": [
        "0.903\t\n"
       ]
      },
      {
       "metadata": {},
       "output_type": "pyout",
       "prompt_number": 219,
       "text": [
        "Epoch 53\t\n"
       ]
      },
      {
       "metadata": {},
       "output_type": "pyout",
       "prompt_number": 219,
       "text": [
        "0.903\t\n",
        "Epoch 54\t\n"
       ]
      },
      {
       "metadata": {},
       "output_type": "pyout",
       "prompt_number": 219,
       "text": [
        "0.903\t\n",
        "Epoch 55\t\n"
       ]
      },
      {
       "metadata": {},
       "output_type": "pyout",
       "prompt_number": 219,
       "text": [
        "0.903\t\n",
        "Epoch 56\t\n"
       ]
      },
      {
       "metadata": {},
       "output_type": "pyout",
       "prompt_number": 219,
       "text": [
        "0.903\t\n",
        "Epoch 57\t\n"
       ]
      },
      {
       "metadata": {},
       "output_type": "pyout",
       "prompt_number": 219,
       "text": [
        "0.903\t\n",
        "Epoch 58\t\n"
       ]
      },
      {
       "metadata": {},
       "output_type": "pyout",
       "prompt_number": 219,
       "text": [
        "0.903\t\n",
        "Epoch 59\t\n"
       ]
      },
      {
       "metadata": {},
       "output_type": "pyout",
       "prompt_number": 219,
       "text": [
        "0.903\t\n",
        "Epoch 60\t\n"
       ]
      },
      {
       "metadata": {},
       "output_type": "pyout",
       "prompt_number": 219,
       "text": [
        "0.903\t\n",
        "Epoch 61\t\n"
       ]
      },
      {
       "metadata": {},
       "output_type": "pyout",
       "prompt_number": 219,
       "text": [
        "0.903\t\n",
        "Epoch 62\t\n"
       ]
      },
      {
       "metadata": {},
       "output_type": "pyout",
       "prompt_number": 219,
       "text": [
        "0.903\t\n",
        "Epoch 63\t\n"
       ]
      },
      {
       "metadata": {},
       "output_type": "pyout",
       "prompt_number": 219,
       "text": [
        "0.903\t\n",
        "Epoch 64\t\n"
       ]
      },
      {
       "metadata": {},
       "output_type": "pyout",
       "prompt_number": 219,
       "text": [
        "0.903\t\n",
        "Epoch 65\t\n"
       ]
      },
      {
       "metadata": {},
       "output_type": "pyout",
       "prompt_number": 219,
       "text": [
        "0.903\t\n",
        "Epoch 66\t\n"
       ]
      },
      {
       "metadata": {},
       "output_type": "pyout",
       "prompt_number": 219,
       "text": [
        "0.903\t\n",
        "Epoch 67\t\n"
       ]
      },
      {
       "metadata": {},
       "output_type": "pyout",
       "prompt_number": 219,
       "text": [
        "0.903\t\n",
        "Epoch 68\t\n"
       ]
      },
      {
       "metadata": {},
       "output_type": "pyout",
       "prompt_number": 219,
       "text": [
        "0.903\t\n",
        "Epoch 69\t\n"
       ]
      },
      {
       "metadata": {},
       "output_type": "pyout",
       "prompt_number": 219,
       "text": [
        "0.903\t\n"
       ]
      },
      {
       "metadata": {},
       "output_type": "pyout",
       "prompt_number": 219,
       "text": [
        "Epoch 70\t\n"
       ]
      },
      {
       "metadata": {},
       "output_type": "pyout",
       "prompt_number": 219,
       "text": [
        "0.903\t\n",
        "Epoch 71\t\n"
       ]
      },
      {
       "metadata": {},
       "output_type": "pyout",
       "prompt_number": 219,
       "text": [
        "0.903\t\n",
        "Epoch 72\t\n"
       ]
      },
      {
       "metadata": {},
       "output_type": "pyout",
       "prompt_number": 219,
       "text": [
        "0.903\t\n"
       ]
      },
      {
       "metadata": {},
       "output_type": "pyout",
       "prompt_number": 219,
       "text": [
        "Epoch 73\t\n"
       ]
      },
      {
       "metadata": {},
       "output_type": "pyout",
       "prompt_number": 219,
       "text": [
        "0.903\t\n",
        "Epoch 74\t\n"
       ]
      },
      {
       "metadata": {},
       "output_type": "pyout",
       "prompt_number": 219,
       "text": [
        "0.903\t\n"
       ]
      },
      {
       "metadata": {},
       "output_type": "pyout",
       "prompt_number": 219,
       "text": [
        "Epoch 75\t\n"
       ]
      },
      {
       "metadata": {},
       "output_type": "pyout",
       "prompt_number": 219,
       "text": [
        "0.903\t\n",
        "Epoch 76\t\n"
       ]
      },
      {
       "metadata": {},
       "output_type": "pyout",
       "prompt_number": 219,
       "text": [
        "0.903\t\n"
       ]
      },
      {
       "metadata": {},
       "output_type": "pyout",
       "prompt_number": 219,
       "text": [
        "Epoch 77\t\n"
       ]
      },
      {
       "metadata": {},
       "output_type": "pyout",
       "prompt_number": 219,
       "text": [
        "0.903\t\n",
        "Epoch 78\t\n"
       ]
      },
      {
       "metadata": {},
       "output_type": "pyout",
       "prompt_number": 219,
       "text": [
        "0.903\t\n"
       ]
      },
      {
       "metadata": {},
       "output_type": "pyout",
       "prompt_number": 219,
       "text": [
        "Epoch 79\t\n"
       ]
      },
      {
       "metadata": {},
       "output_type": "pyout",
       "prompt_number": 219,
       "text": [
        "0.903\t\n",
        "Epoch 80\t\n"
       ]
      },
      {
       "metadata": {},
       "output_type": "pyout",
       "prompt_number": 219,
       "text": [
        "0.903\t\n",
        "Epoch 81\t\n"
       ]
      },
      {
       "metadata": {},
       "output_type": "pyout",
       "prompt_number": 219,
       "text": [
        "0.903\t\n",
        "Epoch 82\t\n"
       ]
      },
      {
       "metadata": {},
       "output_type": "pyout",
       "prompt_number": 219,
       "text": [
        "0.903\t\n",
        "Epoch 83\t\n"
       ]
      },
      {
       "metadata": {},
       "output_type": "pyout",
       "prompt_number": 219,
       "text": [
        "0.903\t\n"
       ]
      },
      {
       "metadata": {},
       "output_type": "pyout",
       "prompt_number": 219,
       "text": [
        "Epoch 84\t\n"
       ]
      },
      {
       "metadata": {},
       "output_type": "pyout",
       "prompt_number": 219,
       "text": [
        "0.903\t\n"
       ]
      },
      {
       "metadata": {},
       "output_type": "pyout",
       "prompt_number": 219,
       "text": [
        "Epoch 85\t\n"
       ]
      },
      {
       "metadata": {},
       "output_type": "pyout",
       "prompt_number": 219,
       "text": [
        "0.903\t\n",
        "Epoch 86\t\n"
       ]
      },
      {
       "metadata": {},
       "output_type": "pyout",
       "prompt_number": 219,
       "text": [
        "0.903\t\n",
        "Epoch 87\t\n"
       ]
      },
      {
       "metadata": {},
       "output_type": "pyout",
       "prompt_number": 219,
       "text": [
        "0.903\t\n",
        "Epoch 88\t\n"
       ]
      },
      {
       "metadata": {},
       "output_type": "pyout",
       "prompt_number": 219,
       "text": [
        "0.903\t\n",
        "Epoch 89\t\n"
       ]
      },
      {
       "metadata": {},
       "output_type": "pyout",
       "prompt_number": 219,
       "text": [
        "0.903\t\n",
        "Epoch 90\t\n"
       ]
      },
      {
       "metadata": {},
       "output_type": "pyout",
       "prompt_number": 219,
       "text": [
        "0.903\t\n",
        "Epoch 91\t\n"
       ]
      },
      {
       "metadata": {},
       "output_type": "pyout",
       "prompt_number": 219,
       "text": [
        "0.903\t\n",
        "Epoch 92\t\n"
       ]
      },
      {
       "metadata": {},
       "output_type": "pyout",
       "prompt_number": 219,
       "text": [
        "0.903\t\n",
        "Epoch 93\t\n"
       ]
      },
      {
       "metadata": {},
       "output_type": "pyout",
       "prompt_number": 219,
       "text": [
        "0.903\t\n"
       ]
      },
      {
       "metadata": {},
       "output_type": "pyout",
       "prompt_number": 219,
       "text": [
        "Epoch 94\t\n"
       ]
      },
      {
       "metadata": {},
       "output_type": "pyout",
       "prompt_number": 219,
       "text": [
        "0.903\t\n"
       ]
      },
      {
       "metadata": {},
       "output_type": "pyout",
       "prompt_number": 219,
       "text": [
        "Epoch 95\t\n"
       ]
      },
      {
       "metadata": {},
       "output_type": "pyout",
       "prompt_number": 219,
       "text": [
        "0.903\t\n",
        "Epoch 96\t\n"
       ]
      },
      {
       "metadata": {},
       "output_type": "pyout",
       "prompt_number": 219,
       "text": [
        "0.903\t\n",
        "Epoch 97\t\n"
       ]
      },
      {
       "metadata": {},
       "output_type": "pyout",
       "prompt_number": 219,
       "text": [
        "0.903\t\n",
        "Epoch 98\t\n"
       ]
      },
      {
       "metadata": {},
       "output_type": "pyout",
       "prompt_number": 219,
       "text": [
        "0.903\t\n",
        "Epoch 99\t\n"
       ]
      },
      {
       "metadata": {},
       "output_type": "pyout",
       "prompt_number": 219,
       "text": [
        "0.903\t\n",
        "Epoch 100\t\n"
       ]
      },
      {
       "metadata": {},
       "output_type": "pyout",
       "prompt_number": 219,
       "text": [
        "0.903\t\n",
        "<csv>\twriting to file: Plain_4.csv\t\n"
       ]
      },
      {
       "metadata": {},
       "output_type": "pyout",
       "prompt_number": 219,
       "text": [
        "<csv>\twriting done\t\n",
        "<csv>\twriting to file: Plain_6.csv\t\n"
       ]
      },
      {
       "metadata": {},
       "output_type": "pyout",
       "prompt_number": 219,
       "text": [
        "<csv>\twriting done\t\n",
        "<csv>\twriting to file: Plain_8.csv\t\n"
       ]
      },
      {
       "metadata": {},
       "output_type": "pyout",
       "prompt_number": 219,
       "text": [
        "<csv>\twriting done\t\n",
        "<csv>\twriting to file: Plain_accuracy.csv\t\n",
        "<csv>\twriting done\t\n"
       ]
      }
     ],
     "prompt_number": 219
    },
    {
     "cell_type": "code",
     "collapsed": false,
     "input": [
      "t = torch.rand(10):mul(9):int()\n",
      "print(t)\n",
      "i = torch.randn(10)\n",
      "a = nn.Sequential()\n",
      "o = a:forward(i)\n",
      "print(o)\n",
      "a:add(nn.Linear(10,3))\n",
      "criterion = nn.ClassNLLCriterion()\n",
      "print(criterion:forward(o,t))\n",
      "print(criterion:backward(o,t))"
     ],
     "language": "python",
     "metadata": {},
     "outputs": [
      {
       "metadata": {},
       "output_type": "pyout",
       "prompt_number": 270,
       "text": [
        " 8\n",
        " 5\n",
        " 5\n",
        " 1\n",
        " 1\n",
        " 0\n",
        " 4\n",
        " 6\n",
        " 2\n",
        " 4\n",
        "[torch.IntTensor of size 10]\n",
        "\n",
        " 0.8884\n",
        " 0.7756\n",
        " 0.5457\n",
        " 0.6541\n",
        " 1.8325\n",
        "-1.2898\n",
        "-0.1213\n",
        " 0.0119\n",
        " 0.3933\n",
        "-1.3736\n",
        "[torch.FloatTensor of size 10]\n",
        "\n",
        "-0.01188537850976\t1\t\n",
        " 0\n",
        " 0\n",
        " 0\n",
        " 0\n",
        " 0\n",
        " 0\n",
        " 0\n",
        "-1\n",
        " 0\n",
        " 0\n",
        "[torch.FloatTensor of size 10]\n",
        "\n"
       ]
      }
     ],
     "prompt_number": 270
    },
    {
     "cell_type": "code",
     "collapsed": false,
     "input": [
      "torch.Tensor(3):uniform(3)"
     ],
     "language": "python",
     "metadata": {},
     "outputs": [
      {
       "metadata": {},
       "output_type": "pyout",
       "prompt_number": 269,
       "text": [
        " 1.2253\n",
        " 1.4225\n",
        " 2.1596\n",
        "[torch.FloatTensor of size 3]\n",
        "\n"
       ]
      }
     ],
     "prompt_number": 269
    },
    {
     "cell_type": "code",
     "collapsed": false,
     "input": [],
     "language": "python",
     "metadata": {},
     "outputs": []
    }
   ],
   "metadata": {}
  }
 ]
}